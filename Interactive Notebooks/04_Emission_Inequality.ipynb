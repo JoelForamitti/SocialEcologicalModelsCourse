{
 "cells": [
  {
   "cell_type": "markdown",
   "id": "worst-manual",
   "metadata": {},
   "source": [
    "# Modeling emission inequality"
   ]
  },
  {
   "cell_type": "markdown",
   "id": "divine-ticket",
   "metadata": {},
   "source": [
    "This notebook introduces a simple model of the connection between inequality and well-being under a limited emission budget."
   ]
  },
  {
   "cell_type": "code",
   "execution_count": 1,
   "id": "corporate-combination",
   "metadata": {},
   "outputs": [],
   "source": [
    "import numpy as np\n",
    "import pandas as pd\n",
    "import seaborn as sns\n",
    "import matplotlib.pyplot as plt\n",
    "sns.set_theme()"
   ]
  },
  {
   "cell_type": "markdown",
   "id": "synthetic-press",
   "metadata": {},
   "source": [
    "## Global emission shares"
   ]
  },
  {
   "cell_type": "markdown",
   "id": "computational-gallery",
   "metadata": {},
   "source": [
    "As input data, we use the total emissions of each percentile of the global population of 2019, taken from the [World Inequality Database](https://wid.world/)."
   ]
  },
  {
   "cell_type": "code",
   "execution_count": 53,
   "id": "tracked-event",
   "metadata": {},
   "outputs": [
    {
     "data": {
      "image/png": "[encoded data removed]",
      "text/plain": [
       "<Figure size 432x288 with 1 Axes>"
      ]
     },
     "metadata": {},
     "output_type": "display_data"
    }
   ],
   "source": [
    "emissions = pd.read_csv(f'data/tco2e_cap_2019.csv')['value'].to_numpy()\n",
    "ax = sns.histplot(emissions)\n",
    "ax.set_xlabel('GHG Emissions [tC02e/cap]');"
   ]
  },
  {
   "cell_type": "markdown",
   "id": "combined-bench",
   "metadata": {},
   "source": [
    "Let's calculate the average emissions per capita:"
   ]
  },
  {
   "cell_type": "code",
   "execution_count": 33,
   "id": "technological-frank",
   "metadata": {},
   "outputs": [
    {
     "data": {
      "text/plain": [
       "6.054784140437841"
      ]
     },
     "execution_count": 33,
     "metadata": {},
     "output_type": "execute_result"
    }
   ],
   "source": [
    "np.sum(emissions) / len(emissions)"
   ]
  },
  {
   "cell_type": "markdown",
   "id": "duplicate-button",
   "metadata": {},
   "source": [
    "We define a function that can redistribute emissions between each percentile."
   ]
  },
  {
   "cell_type": "code",
   "execution_count": 17,
   "id": "sixth-stadium",
   "metadata": {},
   "outputs": [],
   "source": [
    "def redist(x, p):\n",
    "    \"\"\" Redistribute values x by a percentage p in [0, 1]. \"\"\"\n",
    "    y = np.sum(x * p) / len(x)\n",
    "    return x - x * p + y"
   ]
  },
  {
   "cell_type": "markdown",
   "id": "white-direction",
   "metadata": {},
   "source": [
    "For example, the following represents a redistribution by 50%."
   ]
  },
  {
   "cell_type": "code",
   "execution_count": 18,
   "id": "divine-syria",
   "metadata": {},
   "outputs": [],
   "source": [
    "redist_emissions = redist(emissions, 0.5)"
   ]
  },
  {
   "cell_type": "markdown",
   "id": "democratic-leisure",
   "metadata": {},
   "source": [
    "We can measure and compare the inequality of different distributions with the Gini coefficient, as defined [here](https://stackoverflow.com/a/39513799)."
   ]
  },
  {
   "cell_type": "code",
   "execution_count": 19,
   "id": "equal-concert",
   "metadata": {},
   "outputs": [
    {
     "name": "stdout",
     "output_type": "stream",
     "text": [
      "Gini coefficient before redistribution: 0.604236865070486\n",
      "Gini coefficient after redistribution: 0.3021184325352431\n"
     ]
    }
   ],
   "source": [
    "def gini(x):\n",
    "    \"\"\" Takes a list of values and returns the Gini coefficient. \"\"\"\n",
    "    mad = np.abs(np.subtract.outer(x, x)).mean()  # Mean absolute difference\n",
    "    rmad = mad / np.mean(x)  # Relative mean absolute difference\n",
    "    return 0.5 * rmad    \n",
    "\n",
    "print(f\"Gini coefficient before redistribution: {gini(emissions)}\")\n",
    "print(f\"Gini coefficient after redistribution: {gini(redist_emissions)}\")"
   ]
  },
  {
   "cell_type": "markdown",
   "id": "announced-supplier",
   "metadata": {},
   "source": [
    "## The model"
   ]
  },
  {
   "cell_type": "markdown",
   "id": "unauthorized-folks",
   "metadata": {},
   "source": [
    "We can now define our model. We make the following assumptions:\n",
    "\n",
    "- The model consists of 100 people, each representing 1% of the global population.\n",
    "- Peoples initial emissions reflect global data from 2019.\n",
    "- Peoples emissions are reduced proportionally to stay within a target `emissions_max`.\n",
    "- Peoples emissions are then subjected to a certain level of `redistribution`.\n",
    "- There is a a minimum amount of emissions `emissions_min` that is needed to live a good life.\n",
    "\n",
    "The following function can calculate the share of people living a good life, given parameters of `min_share` and `redistribution`."
   ]
  },
  {
   "cell_type": "code",
   "execution_count": 54,
   "id": "about-witch",
   "metadata": {},
   "outputs": [],
   "source": [
    "def calc_good_life_share(emissions_min, redistribution, emissions_max):\n",
    "\n",
    "    emissions = pd.read_csv(f'data/tco2e_cap_2019.csv')['value'].to_numpy()\n",
    "    reduced_emissions = emissions * emissions_max * 100 / np.sum(emissions)\n",
    "    redist_emissions = redist(reduced_emissions, redistribution)\n",
    "    n_good_life = sum([res >= emissions_min for res in redist_emissions]) \n",
    "    \n",
    "    return n_good_life / 100"
   ]
  },
  {
   "cell_type": "markdown",
   "id": "smooth-nelson",
   "metadata": {},
   "source": [
    "We now define an experiment with this model, using different parameter values."
   ]
  },
  {
   "cell_type": "code",
   "execution_count": 55,
   "id": "musical-sodium",
   "metadata": {},
   "outputs": [],
   "source": [
    "def run_experiment(emissions_min_range, redistribution_range, emissions_max):\n",
    "\n",
    "    results = []\n",
    "    for emissions_min in np.linspace(*emissions_min_range, 10):\n",
    "        for redistribution in np.linspace(*redistribution_range, 10):\n",
    "            gls = calc_good_life_share(emissions_min, redistribution, emissions_max)\n",
    "            results.append([gls, emissions_min, redistribution])\n",
    "\n",
    "    columns = ['good_life_share', 'emissions_min', 'redistribution']\n",
    "    return pd.DataFrame(results, columns=columns)"
   ]
  },
  {
   "cell_type": "markdown",
   "id": "secret-destruction",
   "metadata": {},
   "source": [
    "Finally, we define a function to visualize the results of this experiment, using the seaborn and matplotlib libraries."
   ]
  },
  {
   "cell_type": "code",
   "execution_count": 72,
   "id": "prescription-departure",
   "metadata": {},
   "outputs": [],
   "source": [
    "def plot_simulation(results, emissions_min_range, emissions_max):\n",
    "    \n",
    "    # Main plot\n",
    "    ax = sns.lineplot(\n",
    "        data=results, \n",
    "        x='redistribution', \n",
    "        y='good_life_share', \n",
    "        hue='emissions_min',\n",
    "        palette='cool',\n",
    "    )\n",
    "    \n",
    "    # Labels\n",
    "    ax.set_title(f'Emission target: {emissions_max} tCO2e/cap')\n",
    "    ax.set_xlabel('Redistribution of emissions')\n",
    "    ax.set_ylabel('Share of people with a good life')\n",
    "    \n",
    "    # Colorbar\n",
    "    sm = plt.cm.ScalarMappable(\n",
    "        cmap='cool', \n",
    "        norm=plt.Normalize(*emissions_min_range))\n",
    "    ax.get_legend().remove()\n",
    "    cbar = ax.figure.colorbar(sm)\n",
    "    cbar.ax.get_yaxis().labelpad = 40\n",
    "    cbar.set_label('Emissions needed for a good life\\n [tCO2e/cap]', rotation=270)"
   ]
  },
  {
   "cell_type": "markdown",
   "id": "computational-vitamin",
   "metadata": {},
   "source": [
    "## Results and discussion"
   ]
  },
  {
   "cell_type": "markdown",
   "id": "civic-boring",
   "metadata": {},
   "source": [
    "We can now run and visualize the experiment for different parameter ranges as follows:"
   ]
  },
  {
   "cell_type": "code",
   "execution_count": 74,
   "id": "successful-wrong",
   "metadata": {},
   "outputs": [
    {
     "data": {
      "image/png": "[encoded data removed]",
      "text/plain": [
       "<Figure size 432x288 with 2 Axes>"
      ]
     },
     "metadata": {},
     "output_type": "display_data"
    }
   ],
   "source": [
    "emissions_max = 3\n",
    "emissions_min_range = (0, 5)\n",
    "redistribution_range = (0, 1)\n",
    "results = run_experiment(emissions_min_range, redistribution_range, emissions_max)\n",
    "plot_simulation(results, emissions_min_range, emissions_max)"
   ]
  },
  {
   "cell_type": "markdown",
   "id": "attractive-print",
   "metadata": {},
   "source": [
    "**Questions for discussion**:\n",
    "\n",
    "- What level of emission reduction is represented by the chosen value of `emissions_max`?\n",
    "- Why does more redistribution lead to a higher (lower) `good_life_share` for lower (higher) values of `emission_min`?\n",
    "- What happens under different parameter choices?\n",
    "- What does `emission_min` represent in the real world?\n",
    "- What kind of knowledge can we gain (or not gain) from this model?"
   ]
  }
 ],
 "metadata": {
  "kernelspec": {
   "display_name": "Python 3",
   "language": "python",
   "name": "python3"
  },
  "language_info": {
   "codemirror_mode": {
    "name": "ipython",
    "version": 3
   },
   "file_extension": ".py",
   "mimetype": "text/x-python",
   "name": "python",
   "nbconvert_exporter": "python",
   "pygments_lexer": "ipython3",
   "version": "3.8.10"
  }
 },
 "nbformat": 4,
 "nbformat_minor": 5
}
