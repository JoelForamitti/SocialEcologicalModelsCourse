{
 "cells": [
  {
   "cell_type": "markdown",
   "id": "floating-gospel",
   "metadata": {},
   "source": [
    "# Emissions, inequality, and the good life\n",
    "*Joël Foramitti, 09.02.2022*"
   ]
  },
  {
   "cell_type": "markdown",
   "id": "smart-rates",
   "metadata": {},
   "source": [
    "This notebook introduces a model to explore the connection between inequality and well-being under a limited budget for annual emissions. It takes as inputs an emission distribution, a degree of redistribution, an emission target, and a minimum amount of emissions that is needed to live a good life. As output, it calculates the share of the population that is needed to live a good life under these conditions."
   ]
  },
  {
   "cell_type": "code",
   "execution_count": 1,
   "id": "recreational-roller",
   "metadata": {},
   "outputs": [],
   "source": [
    "import numpy as np\n",
    "import pandas as pd\n",
    "import seaborn as sns\n",
    "import matplotlib.pyplot as plt\n",
    "sns.set_theme()"
   ]
  },
  {
   "cell_type": "markdown",
   "id": "blond-present",
   "metadata": {},
   "source": [
    "## Global emission shares"
   ]
  },
  {
   "cell_type": "markdown",
   "id": "known-values",
   "metadata": {},
   "source": [
    "As input data, we use the total emissions of each percentile of the global population of 2019 (given in tons of CO2 equivalent), taken from the [World Inequality Database](https://wid.world/)."
   ]
  },
  {
   "cell_type": "code",
   "execution_count": 2,
   "id": "nearby-artist",
   "metadata": {},
   "outputs": [],
   "source": [
    "emissions = pd.read_csv(f'data/tco2e_cap_2019.csv')['value'].to_numpy()"
   ]
  },
  {
   "cell_type": "markdown",
   "id": "helpful-cooking",
   "metadata": {},
   "source": [
    "We can take a look at this data with a histogram."
   ]
  },
  {
   "cell_type": "code",
   "execution_count": 2,
   "id": "scenic-circuit",
   "metadata": {},
   "outputs": [
    {
     "data": {
      "image/png": "[encoded data removed]",
      "text/plain": [
       "<Figure size 432x288 with 1 Axes>"
      ]
     },
     "metadata": {},
     "output_type": "display_data"
    }
   ],
   "source": [
    "ax = sns.histplot(emissions)\n",
    "ax.set_xlabel('GHG Emissions [tC02e/cap]');"
   ]
  },
  {
   "cell_type": "markdown",
   "id": "august-guyana",
   "metadata": {},
   "source": [
    "We can also calculate the world's average per capita emissions."
   ]
  },
  {
   "cell_type": "code",
   "execution_count": 15,
   "id": "tamil-peoples",
   "metadata": {},
   "outputs": [
    {
     "name": "stdout",
     "output_type": "stream",
     "text": [
      "Average emissions in 2019: 6.05 tC02e/cap\n"
     ]
    }
   ],
   "source": [
    "emissions_av = np.sum(emissions) / len(emissions)\n",
    "print(f'Average emissions in 2019: {round(emissions_av, 2)} tC02e/cap')"
   ]
  },
  {
   "cell_type": "markdown",
   "id": "fresh-listing",
   "metadata": {},
   "source": [
    "We now define a function that can redistribute emissions between each percentile."
   ]
  },
  {
   "cell_type": "code",
   "execution_count": 16,
   "id": "dimensional-sapphire",
   "metadata": {},
   "outputs": [],
   "source": [
    "def redist(x, p):\n",
    "    \"\"\" Redistribute values x by a rate p between 0 and 1. \"\"\"\n",
    "    y = np.sum(x * p) / len(x)\n",
    "    return x - x * p + y"
   ]
  },
  {
   "cell_type": "markdown",
   "id": "adult-shift",
   "metadata": {},
   "source": [
    "For example, the following represents a redistribution rate of 50%."
   ]
  },
  {
   "cell_type": "code",
   "execution_count": 17,
   "id": "stuffed-japanese",
   "metadata": {},
   "outputs": [],
   "source": [
    "redist_emissions = redist(emissions, 0.5)"
   ]
  },
  {
   "cell_type": "markdown",
   "id": "ready-google",
   "metadata": {},
   "source": [
    "We can measure and compare the inequality of different distributions with the [Gini coefficient](https://en.wikipedia.org/wiki/Gini_coefficient), as defined [here](https://stackoverflow.com/a/39513799)."
   ]
  },
  {
   "cell_type": "code",
   "execution_count": 18,
   "id": "allied-willow",
   "metadata": {},
   "outputs": [
    {
     "name": "stdout",
     "output_type": "stream",
     "text": [
      "Gini coefficient before redistribution: 0.604236865070486\n",
      "Gini coefficient after redistribution: 0.3021184325352431\n"
     ]
    }
   ],
   "source": [
    "def gini(x):\n",
    "    \"\"\" Takes a list of values and returns the Gini coefficient. \"\"\"\n",
    "    mad = np.abs(np.subtract.outer(x, x)).mean()  # Mean absolute difference\n",
    "    rmad = mad / np.mean(x)  # Relative mean absolute difference\n",
    "    return 0.5 * rmad    \n",
    "\n",
    "print(f\"Gini coefficient before redistribution: {gini(emissions)}\")\n",
    "print(f\"Gini coefficient after redistribution: {gini(redist_emissions)}\")"
   ]
  },
  {
   "cell_type": "markdown",
   "id": "attempted-white",
   "metadata": {},
   "source": [
    "## The model"
   ]
  },
  {
   "cell_type": "markdown",
   "id": "celtic-patio",
   "metadata": {},
   "source": [
    "We can now define our model. We make the following assumptions:\n",
    "\n",
    "- The model consists of 100 groups, each representing 1% of the global population.\n",
    "- Initial emissions reflect data from 2019, taken from the [World Inequality Database](https://wid.world/) (given in tCO2e/cap).\n",
    "- Emissions are reduced proportionally to stay within a target `emissions_max` (given in average tCO2e/cap).\n",
    "- Emissions are then subjected to a certain level of `redistribution` between groups (given as a value between 0 and 1).\n",
    "- There is a a minimum amount of `emissions_min` that is needed to live a good life (given in tCO2e/cap).\n",
    "\n",
    "The model is described in the following function. The output of the model is the share of the population that is able to live a good life under the given parameters."
   ]
  },
  {
   "cell_type": "code",
   "execution_count": 7,
   "id": "convinced-valuation",
   "metadata": {},
   "outputs": [],
   "source": [
    "def calc_good_life_share(emissions_min, redistribution, emissions_max):\n",
    "\n",
    "    emissions = pd.read_csv(f'data/tco2e_cap_2019.csv')['value'].to_numpy()\n",
    "    reduced_emissions = emissions * emissions_max * 100 / np.sum(emissions)\n",
    "    redist_emissions = redist(reduced_emissions, redistribution)\n",
    "    n_good_life = sum([res >= emissions_min for res in redist_emissions]) \n",
    "    \n",
    "    return n_good_life / 100"
   ]
  },
  {
   "cell_type": "markdown",
   "id": "italian-medicaid",
   "metadata": {},
   "source": [
    "The following example describes a setting with a redistribution of 50%, a minimum of necessary emissions of 2 tCO2e/cap, and a maximum of average emissions of 3 tCO2e/cap. Note that the latter represents a 50% reduction from the current average emissions calculated above."
   ]
  },
  {
   "cell_type": "code",
   "execution_count": 8,
   "id": "separated-divide",
   "metadata": {},
   "outputs": [
    {
     "data": {
      "text/plain": [
       "0.62"
      ]
     },
     "execution_count": 8,
     "metadata": {},
     "output_type": "execute_result"
    }
   ],
   "source": [
    "emissions_max = 3\n",
    "emissions_min = 2\n",
    "redistribution = 0.5\n",
    "calc_good_life_share(emissions_min, redistribution, emissions_max)"
   ]
  },
  {
   "cell_type": "markdown",
   "id": "brown-burton",
   "metadata": {},
   "source": [
    "This means that the share of the population that would be able to live a good life under these conditions is 62%."
   ]
  },
  {
   "cell_type": "markdown",
   "id": "posted-passage",
   "metadata": {},
   "source": [
    "## Parameter exploration"
   ]
  },
  {
   "cell_type": "markdown",
   "id": "graphic-services",
   "metadata": {},
   "source": [
    "We now define an experiment with this model, which can explore different ranges for the parameters `emissions_min` and `redistribution`."
   ]
  },
  {
   "cell_type": "code",
   "execution_count": 9,
   "id": "hollywood-michigan",
   "metadata": {},
   "outputs": [],
   "source": [
    "def run_experiment(emissions_min_range, redistribution_range, emissions_max):\n",
    "\n",
    "    results = []\n",
    "    for emissions_min in np.linspace(*emissions_min_range, 10):\n",
    "        for redistribution in np.linspace(*redistribution_range, 10):\n",
    "            gls = calc_good_life_share(emissions_min, redistribution, emissions_max)\n",
    "            results.append([gls, emissions_min, redistribution])\n",
    "\n",
    "    columns = ['good_life_share', 'emissions_min', 'redistribution']\n",
    "    return pd.DataFrame(results, columns=columns)"
   ]
  },
  {
   "cell_type": "markdown",
   "id": "raising-arthur",
   "metadata": {},
   "source": [
    "Finally, we define a function to visualize the results of this experiment."
   ]
  },
  {
   "cell_type": "code",
   "execution_count": 10,
   "id": "hollow-magnet",
   "metadata": {},
   "outputs": [],
   "source": [
    "def plot_simulation(results, emissions_min_range, emissions_max):\n",
    "    \n",
    "    # Main plot\n",
    "    ax = sns.lineplot(\n",
    "        data=results, \n",
    "        x='redistribution', \n",
    "        y='good_life_share', \n",
    "        hue='emissions_min',\n",
    "        palette='cool',\n",
    "    )\n",
    "        \n",
    "    # Colorbar\n",
    "    sm = plt.cm.ScalarMappable(\n",
    "        cmap='cool', \n",
    "        norm=plt.Normalize(*emissions_min_range))\n",
    "    ax.get_legend().remove()\n",
    "    cbar = ax.figure.colorbar(sm)\n",
    "    \n",
    "    # Labels\n",
    "    ax.set_title(f'Maximum average emissions: {emissions_max} tCO2e/cap')\n",
    "    ax.set_xlabel('Redistribution of emissions')\n",
    "    ax.set_ylabel('Share of people with a good life')\n",
    "    cbar.ax.get_yaxis().labelpad = 40\n",
    "    cbar.set_label('Emissions needed for a good life\\n [tCO2e/cap]', rotation=270)"
   ]
  },
  {
   "cell_type": "markdown",
   "id": "bronze-raise",
   "metadata": {},
   "source": [
    "We can now run and visualize the experiment for different parameter ranges as follows:"
   ]
  },
  {
   "cell_type": "code",
   "execution_count": 11,
   "id": "horizontal-accident",
   "metadata": {},
   "outputs": [
    {
     "data": {
      "image/png": "[encoded data removed]",
      "text/plain": [
       "<Figure size 432x288 with 2 Axes>"
      ]
     },
     "metadata": {},
     "output_type": "display_data"
    }
   ],
   "source": [
    "emissions_max = 3\n",
    "emissions_min_range = (0, 5)\n",
    "redistribution_range = (0, 1)\n",
    "results = run_experiment(emissions_min_range, redistribution_range, emissions_max)\n",
    "plot_simulation(results, emissions_min_range, emissions_max)"
   ]
  },
  {
   "cell_type": "markdown",
   "id": "declared-providence",
   "metadata": {},
   "source": [
    "The results show that the share of people with a good life increases for higher levels of redistribution if the emissions per capita needed for a good life are lower than the maximum average emissions per capita."
   ]
  },
  {
   "cell_type": "markdown",
   "id": "generous-manhattan",
   "metadata": {},
   "source": [
    "## Questions for discussion"
   ]
  },
  {
   "cell_type": "markdown",
   "id": "failing-enclosure",
   "metadata": {},
   "source": [
    "- Why does redistribution have a different effect under different values of `emissions_min`?\n",
    "- What does `emissions_min` represent in the real world? How could it be decreased?\n",
    "- What happens under different parameter choices? \n",
    "- What kind of knowledge can we gain (or not gain) from this model?"
   ]
  }
 ],
 "metadata": {
  "kernelspec": {
   "display_name": "Python 3",
   "language": "python",
   "name": "python3"
  },
  "language_info": {
   "codemirror_mode": {
    "name": "ipython",
    "version": 3
   },
   "file_extension": ".py",
   "mimetype": "text/x-python",
   "name": "python",
   "nbconvert_exporter": "python",
   "pygments_lexer": "ipython3",
   "version": "3.8.10"
  }
 },
 "nbformat": 4,
 "nbformat_minor": 5
}
