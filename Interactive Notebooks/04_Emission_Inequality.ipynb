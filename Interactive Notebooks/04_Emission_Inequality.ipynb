{
 "cells": [
  {
   "cell_type": "markdown",
   "id": "urban-italian",
   "metadata": {},
   "source": [
    "# Modeling emission inequality"
   ]
  },
  {
   "cell_type": "markdown",
   "id": "compact-migration",
   "metadata": {},
   "source": [
    "This notebook introduces a simple model of the connection between inequality and well-being under a limited emission budget."
   ]
  },
  {
   "cell_type": "code",
   "execution_count": 2,
   "id": "casual-ecology",
   "metadata": {},
   "outputs": [],
   "source": [
    "import numpy as np\n",
    "import pandas as pd\n",
    "import seaborn as sns\n",
    "import matplotlib.pyplot as plt\n",
    "sns.set_theme()"
   ]
  },
  {
   "cell_type": "markdown",
   "id": "productive-theater",
   "metadata": {},
   "source": [
    "## Global income shares"
   ]
  },
  {
   "cell_type": "markdown",
   "id": "demographic-football",
   "metadata": {},
   "source": [
    "As input data, we use the income shares of each percentile of the global population of 2016, taken from the [World Inequality Database](https://wid.world/)."
   ]
  },
  {
   "cell_type": "code",
   "execution_count": 19,
   "id": "previous-knowing",
   "metadata": {},
   "outputs": [
    {
     "data": {
      "image/png": "[encoded data removed]",
      "text/plain": [
       "<Figure size 432x288 with 1 Axes>"
      ]
     },
     "metadata": {},
     "output_type": "display_data"
    }
   ],
   "source": [
    "income_shares = list(pd.read_csv(f'data/income_shares_2016.csv')['value'])\n",
    "ax = sns.histplot(income_shares)\n",
    "ax.set_xlabel('Income share');"
   ]
  },
  {
   "cell_type": "markdown",
   "id": "protected-shield",
   "metadata": {},
   "source": [
    "We define a function that can redistribute income between each percentile."
   ]
  },
  {
   "cell_type": "code",
   "execution_count": 26,
   "id": "nominated-fireplace",
   "metadata": {},
   "outputs": [],
   "source": [
    "def redist(x, p):\n",
    "    \"\"\" Redistribute values x by a percentage p in [0, 1]. \"\"\"\n",
    "    x = np.array(x)\n",
    "    y = np.sum(x * p) / len(x)\n",
    "    return x - x * p + y"
   ]
  },
  {
   "cell_type": "markdown",
   "id": "blessed-visiting",
   "metadata": {},
   "source": [
    "For example, the following represents a redistribution by 50%."
   ]
  },
  {
   "cell_type": "code",
   "execution_count": 29,
   "id": "removable-stone",
   "metadata": {},
   "outputs": [],
   "source": [
    "redist_income_shares = redist(income_shares, 0.5)"
   ]
  },
  {
   "cell_type": "markdown",
   "id": "indie-traffic",
   "metadata": {},
   "source": [
    "We can measure and compare the inequality of different distributions with the Gini coefficient, as defined [here](https://stackoverflow.com/a/39513799)."
   ]
  },
  {
   "cell_type": "code",
   "execution_count": 30,
   "id": "proved-chassis",
   "metadata": {},
   "outputs": [
    {
     "name": "stdout",
     "output_type": "stream",
     "text": [
      "Gini coefficient before redistribution: 0.6645114511451145\n",
      "Gini coefficient after redistribution: 0.3322557255725572\n"
     ]
    }
   ],
   "source": [
    "def gini(x):\n",
    "    \"\"\" Takes a list of values and returns the Gini coefficient. \"\"\"\n",
    "    mad = np.abs(np.subtract.outer(x, x)).mean()  # Mean absolute difference\n",
    "    rmad = mad / np.mean(x)  # Relative mean absolute difference\n",
    "    return 0.5 * rmad    \n",
    "\n",
    "print(f\"Gini coefficient before redistribution: {gini(income_shares)}\")\n",
    "print(f\"Gini coefficient after redistribution: {gini(redist_income_shares)}\")"
   ]
  },
  {
   "cell_type": "markdown",
   "id": "broad-personality",
   "metadata": {},
   "source": [
    "## The model"
   ]
  },
  {
   "cell_type": "markdown",
   "id": "catholic-index",
   "metadata": {},
   "source": [
    "We can now define our model. We make the following assumptions:\n",
    "\n",
    "- The model consists of 100 people, each representing 1% of the global population.\n",
    "- Peoples income share reflect global data from 2016, subject to a certain level of `redistribution`.\n",
    "- There is a fixed global emission budget (reflecting a maximum amount of emissions per year).\n",
    "- Income shares are equal to `emission_shares`, i.e. the share of the global emission budget that each person is able to access.\n",
    "- There is a `min_share` - a minimum emission share that is needed to live a good life. Both technological improvements and cultural changes could affect this value.\n",
    "\n",
    "The following function can calculate the share of people living a good life, given parameters of `min_share` and `redistribution`."
   ]
  },
  {
   "cell_type": "code",
   "execution_count": 34,
   "id": "referenced-chick",
   "metadata": {},
   "outputs": [],
   "source": [
    "def calc_good_life_share(min_share, redistribution):\n",
    "\n",
    "    emission_shares = pd.read_csv(f'data/income_shares_2016.csv')['value']\n",
    "    redist_emission_shares = redist(emission_shares, redistribution)\n",
    "    n_good_life = sum([res >= min_share for res in redist_emission_shares]) \n",
    "    \n",
    "    return n_good_life / 100"
   ]
  },
  {
   "cell_type": "markdown",
   "id": "spatial-recorder",
   "metadata": {},
   "source": [
    "We now define an experiment with this model, using different parameter values."
   ]
  },
  {
   "cell_type": "code",
   "execution_count": 50,
   "id": "greatest-concord",
   "metadata": {},
   "outputs": [],
   "source": [
    "def run_experiment(min_share_range, redistribution_range):\n",
    "\n",
    "    results = []\n",
    "    for min_share in np.linspace(*min_share_range, 10):\n",
    "        for redistribution in np.linspace(*redistribution_range, 10):\n",
    "            good_life_share = calc_good_life_share(\n",
    "                min_share = min_share,\n",
    "                redistribution = redistribution\n",
    "            )\n",
    "            results.append([good_life_share, min_share, redistribution])\n",
    "\n",
    "    columns = ['good_life_share', 'min_share', 'redistribution']\n",
    "    return pd.DataFrame(results, columns=columns)"
   ]
  },
  {
   "cell_type": "markdown",
   "id": "favorite-tampa",
   "metadata": {},
   "source": [
    "Finally, we define a function to visualize the results of this experiment, using the seaborn and matplotlib libraries."
   ]
  },
  {
   "cell_type": "code",
   "execution_count": 57,
   "id": "finite-heaven",
   "metadata": {},
   "outputs": [],
   "source": [
    "def plot_simulation(results, min_share_range):\n",
    "    \n",
    "    # Main plot\n",
    "    ax = sns.lineplot(\n",
    "        data=results, \n",
    "        x='redistribution', \n",
    "        y='good_life_share', \n",
    "        hue='min_share',\n",
    "        palette='cool',\n",
    "    )\n",
    "    \n",
    "    # Colorbar\n",
    "    sm = plt.cm.ScalarMappable(\n",
    "        cmap='cool', \n",
    "        norm=plt.Normalize(*min_share_range))\n",
    "    ax.get_legend().remove()\n",
    "    cbar = ax.figure.colorbar(sm)\n",
    "    cbar.ax.get_yaxis().labelpad = 20\n",
    "    cbar.set_label('min_share', rotation=270)"
   ]
  },
  {
   "cell_type": "markdown",
   "id": "three-inside",
   "metadata": {},
   "source": [
    "## Results and discussion"
   ]
  },
  {
   "cell_type": "markdown",
   "id": "discrete-courage",
   "metadata": {},
   "source": [
    "We can now run and visualize the experiment for different parameter ranges as follows:"
   ]
  },
  {
   "cell_type": "code",
   "execution_count": 58,
   "id": "objective-terry",
   "metadata": {},
   "outputs": [
    {
     "data": {
      "image/png": "[encoded data removed]",
      "text/plain": [
       "<Figure size 432x288 with 2 Axes>"
      ]
     },
     "metadata": {},
     "output_type": "display_data"
    }
   ],
   "source": [
    "min_share_range = (0, 2/100)\n",
    "redistribution_range = (0, 1)\n",
    "results = run_experiment(min_share_range, redistribution_range)\n",
    "plot_simulation(results, min_share_range)"
   ]
  },
  {
   "cell_type": "markdown",
   "id": "exact-level",
   "metadata": {},
   "source": [
    "**Questions for discussion**:\n",
    "\n",
    "- Why does more redistribution lead to a higher share of people living a good life for min_share > 0.01?\n",
    "- Why does the share of people living a good life drop to zero for redistribution = 1 and min_share > 0.01?\n",
    "- What value of min_share would we expect there to be in the real world?\n",
    "- What kind of knowledge can we gain (or not gain) from this model?"
   ]
  }
 ],
 "metadata": {
  "kernelspec": {
   "display_name": "Python 3",
   "language": "python",
   "name": "python3"
  },
  "language_info": {
   "codemirror_mode": {
    "name": "ipython",
    "version": 3
   },
   "file_extension": ".py",
   "mimetype": "text/x-python",
   "name": "python",
   "nbconvert_exporter": "python",
   "pygments_lexer": "ipython3",
   "version": "3.8.10"
  }
 },
 "nbformat": 4,
 "nbformat_minor": 5
}
