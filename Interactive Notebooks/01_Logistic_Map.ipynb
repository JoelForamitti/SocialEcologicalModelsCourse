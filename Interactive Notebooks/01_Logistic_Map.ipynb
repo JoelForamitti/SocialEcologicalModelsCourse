{
 "cells": [
  {
   "cell_type": "markdown",
   "id": "outdoor-split",
   "metadata": {},
   "source": [
    "# Population dynamics and the logistic map\n",
    "\n",
    "*Joël Foramitti, 09.02.2022*"
   ]
  },
  {
   "cell_type": "markdown",
   "id": "demanding-pepper",
   "metadata": {},
   "source": [
    "This notebook presents a simple model of population dynamics within natural constraints, inspired by [Veritasium](https://www.youtube.com/watch?v=ovJcsL7vyrk)."
   ]
  },
  {
   "cell_type": "code",
   "execution_count": 1,
   "id": "leading-strike",
   "metadata": {},
   "outputs": [],
   "source": [
    "import matplotlib.pyplot as plt\n",
    "import numpy as np"
   ]
  },
  {
   "cell_type": "markdown",
   "id": "amino-outdoors",
   "metadata": {},
   "source": [
    "The model makes the following assumptions:\n",
    "\n",
    "- An animal population $x_t$ increases by a growth rate $r_t$  at every time step: $x_{t+1}=x_t*r_t$ \n",
    "- The growth rate drops as the population increases due to natural constraints: $r_t = r * (1-x_t)$\n",
    "\n",
    "Put together, this becomes the [logistic map](https://en.wikipedia.org/wiki/Logistic_map): $x_{t+1}=r*x_t*(1-x_t)$ "
   ]
  },
  {
   "cell_type": "code",
   "execution_count": 2,
   "id": "altered-french",
   "metadata": {},
   "outputs": [],
   "source": [
    "def logistic_map(x, r):\n",
    "    return r * x * (1 - x)"
   ]
  },
  {
   "cell_type": "markdown",
   "id": "least-humor",
   "metadata": {},
   "source": [
    "We run a simulation of how the population evolves over time."
   ]
  },
  {
   "cell_type": "code",
   "execution_count": 5,
   "id": "chubby-ceramic",
   "metadata": {},
   "outputs": [],
   "source": [
    "x0 = 0.01\n",
    "r = 1.5\n",
    "n_steps = 50\n",
    "\n",
    "steps = np.arange(n_steps)\n",
    "population = np.zeros(n_steps)\n",
    "\n",
    "x = x0\n",
    "for i in steps:\n",
    "    x = logistic_map(x, r)\n",
    "    population[i] = x"
   ]
  },
  {
   "cell_type": "markdown",
   "id": "thousand-easter",
   "metadata": {},
   "source": [
    "We can plot the results and see that the population stabilizes over time."
   ]
  },
  {
   "cell_type": "code",
   "execution_count": 4,
   "id": "muslim-relief",
   "metadata": {},
   "outputs": [
    {
     "data": {
      "image/png": "[encoded data removed]",
      "text/plain": [
       "<Figure size 432x288 with 1 Axes>"
      ]
     },
     "metadata": {
      "needs_background": "light"
     },
     "output_type": "display_data"
    }
   ],
   "source": [
    "plt.plot(population)\n",
    "plt.xlabel('Time steps')\n",
    "plt.ylabel('Population');"
   ]
  },
  {
   "cell_type": "markdown",
   "id": "green-render",
   "metadata": {},
   "source": [
    "We define a function to record the final population at the last two steps."
   ]
  },
  {
   "cell_type": "code",
   "execution_count": 6,
   "id": "egyptian-enlargement",
   "metadata": {},
   "outputs": [],
   "source": [
    "def final_population(x0, r, n_steps):\n",
    "    x = x0\n",
    "    for _ in range(n_steps):\n",
    "        x = logistic_map(x, r)    \n",
    "    return [x, logistic_map(x, r)]"
   ]
  },
  {
   "cell_type": "markdown",
   "id": "outdoor-gabriel",
   "metadata": {},
   "source": [
    "We run an experiment to explore what number the population will reach for different growth rates."
   ]
  },
  {
   "cell_type": "code",
   "execution_count": 13,
   "id": "corporate-consortium",
   "metadata": {},
   "outputs": [],
   "source": [
    "n_runs = 1000\n",
    "n_steps = 1000\n",
    "r_range = (0, 4)\n",
    "x0 = 0.01\n",
    "\n",
    "growth_rate = np.zeros(n_runs*2)\n",
    "population = np.zeros(n_runs*2)\n",
    "\n",
    "j = 0\n",
    "for r in np.linspace(*r_range, n_runs):\n",
    "    growth_rate[j:j+2] = [r, r]\n",
    "    population[j:j+2] = final_population(x0, r, n_steps)\n",
    "    j += 2"
   ]
  },
  {
   "cell_type": "markdown",
   "id": "exciting-lecture",
   "metadata": {},
   "source": [
    "The results show a simple relationship for low growth rates that later becomes chaotic."
   ]
  },
  {
   "cell_type": "code",
   "execution_count": 14,
   "id": "ultimate-rhythm",
   "metadata": {},
   "outputs": [
    {
     "data": {
      "image/png": "[encoded data removed]",
      "text/plain": [
       "<Figure size 432x288 with 1 Axes>"
      ]
     },
     "metadata": {
      "needs_background": "light"
     },
     "output_type": "display_data"
    }
   ],
   "source": [
    "plt.scatter(growth_rate, population, s=0.1)\n",
    "plt.xlabel('Growth rate')\n",
    "plt.ylabel('Population');"
   ]
  },
  {
   "cell_type": "markdown",
   "id": "institutional-mercy",
   "metadata": {},
   "source": [
    "To learn more about this surprising result: \n",
    "\n",
    "- https://en.wikipedia.org/wiki/Logistic_map\n",
    "- https://www.youtube.com/watch?v=ovJcsL7vyrk"
   ]
  }
 ],
 "metadata": {
  "kernelspec": {
   "display_name": "Python 3",
   "language": "python",
   "name": "python3"
  },
  "language_info": {
   "codemirror_mode": {
    "name": "ipython",
    "version": 3
   },
   "file_extension": ".py",
   "mimetype": "text/x-python",
   "name": "python",
   "nbconvert_exporter": "python",
   "pygments_lexer": "ipython3",
   "version": "3.8.10"
  }
 },
 "nbformat": 4,
 "nbformat_minor": 5
}
