{
 "cells": [
  {
   "cell_type": "markdown",
   "id": "friendly-restoration",
   "metadata": {},
   "source": [
    "# Example of a simple simulation\n",
    "\n",
    "This notebook introduces a very simple simulation of the [IPAT Model](https://findanyanswer.com/what-is-the-ipat-model). "
   ]
  },
  {
   "cell_type": "markdown",
   "id": "chronic-honor",
   "metadata": {},
   "source": [
    "## Defining variables"
   ]
  },
  {
   "cell_type": "code",
   "execution_count": 1,
   "id": "adjacent-forward",
   "metadata": {},
   "outputs": [],
   "source": [
    "# Number of steps that the simulation will run\n",
    "steps = 100  \n",
    "\n",
    "# Initiating variables with initial values\n",
    "population = 1\n",
    "affluence = 1\n",
    "technology = 1\n",
    "\n",
    "# Parameters that define the change of values over time\n",
    "population_change = 1.2\n",
    "affluence_change = 0.90\n",
    "technology_change = 0.90"
   ]
  },
  {
   "cell_type": "markdown",
   "id": "associate-congo",
   "metadata": {},
   "source": [
    "## Running a simulation"
   ]
  },
  {
   "cell_type": "code",
   "execution_count": 2,
   "id": "emerging-maker",
   "metadata": {},
   "outputs": [],
   "source": [
    "# This list will contain the recorded data\n",
    "impacts = []\n",
    "\n",
    "# This loop calculates each step seperately\n",
    "for i in range(steps):\n",
    "    \n",
    "    # Variables are changed based on parameters\n",
    "    population *= population_change\n",
    "    affluence *= affluence_change\n",
    "    technology *= technology_change\n",
    "    \n",
    "    # Impact is calculated with the IPAT equation\n",
    "    impact = population * affluence * technology\n",
    "    \n",
    "    # Impact of current time-step is recorded\n",
    "    impacts.append(impact)"
   ]
  },
  {
   "cell_type": "markdown",
   "id": "optimum-mediterranean",
   "metadata": {},
   "source": [
    "## Visualizing the results"
   ]
  },
  {
   "cell_type": "code",
   "execution_count": 3,
   "id": "another-placement",
   "metadata": {},
   "outputs": [
    {
     "data": {
      "image/png": "[encoded data removed]",
      "text/plain": [
       "<Figure size 432x288 with 1 Axes>"
      ]
     },
     "metadata": {
      "needs_background": "light"
     },
     "output_type": "display_data"
    }
   ],
   "source": [
    "# Import the matplotlib package\n",
    "import matplotlib.pyplot as plt \n",
    "\n",
    "# Plot the data\n",
    "plt.plot(impacts)\n",
    "\n",
    "# Label the axes\n",
    "plt.xlabel('Time-steps')\n",
    "plt.ylabel('Impact');"
   ]
  }
 ],
 "metadata": {
  "kernelspec": {
   "display_name": "Python 3",
   "language": "python",
   "name": "python3"
  },
  "language_info": {
   "codemirror_mode": {
    "name": "ipython",
    "version": 3
   },
   "file_extension": ".py",
   "mimetype": "text/x-python",
   "name": "python",
   "nbconvert_exporter": "python",
   "pygments_lexer": "ipython3",
   "version": "3.8.10"
  }
 },
 "nbformat": 4,
 "nbformat_minor": 5
}
