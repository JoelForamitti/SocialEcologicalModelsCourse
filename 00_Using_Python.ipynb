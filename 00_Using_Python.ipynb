{
 "cells": [
  {
   "cell_type": "markdown",
   "id": "considerable-relay",
   "metadata": {},
   "source": [
    "# Using Python"
   ]
  },
  {
   "cell_type": "markdown",
   "id": "systematic-lesson",
   "metadata": {},
   "source": [
    "This notebook gives a brief overview on how to use Python and Jupyter Notebooks.\n",
    "\n",
    "Python is one of the most popular programming languages for scientific applications.\n",
    "\n",
    "You can find out more about Python here: https://www.python.org/\n",
    "\n",
    "You can find a quick tutorial on how to use Python here:\n",
    "https://www.programiz.com/python-programming/tutorial"
   ]
  },
  {
   "cell_type": "markdown",
   "id": "continuing-footwear",
   "metadata": {},
   "source": [
    "Jupyter Notebooks are a type of document in which we can run Python code. What you have open in front of you is a Jupyter Notebook.\n",
    "\n",
    "Here are some basic functionalities of Jupyter:\n",
    "\n",
    "- You can navigate between cells with your keyboard arrows or by clicking on a cell. \n",
    "- You can switch between *Command Mode* the *Edit Mode* with `Enter` and `Esc`. \n",
    "- In Command Mode, you can create a new cell below with the command `b` and delete a cell with `d` `d`. \n",
    "- To *run* a selected cell, click on the `►` button at the top or use the keyboard combination `Shift` + `Enter`. \n",
    "- If the [kernel](https://ipython.org/ipython-doc/3/development/kernels.html) crashes, you can restart it with the `↻` button. \n",
    "\n",
    "For more information about how to use Jupyter, [click here](https://realpython.com/jupyter-notebook-introduction/).\n",
    "\n",
    "Below you can see the first *code cell* of this notebook. \n",
    "\n",
    "Try to run the cell, change it, and run it again."
   ]
  },
  {
   "cell_type": "code",
   "execution_count": 1,
   "id": "magnetic-address",
   "metadata": {},
   "outputs": [
    {
     "name": "stdout",
     "output_type": "stream",
     "text": [
      "Hello World!\n"
     ]
    }
   ],
   "source": [
    "print('Hello World!')"
   ]
  },
  {
   "cell_type": "code",
   "execution_count": null,
   "id": "naughty-server",
   "metadata": {},
   "outputs": [],
   "source": []
  }
 ],
 "metadata": {
  "kernelspec": {
   "display_name": "Python 3",
   "language": "python",
   "name": "python3"
  },
  "language_info": {
   "codemirror_mode": {
    "name": "ipython",
    "version": 3
   },
   "file_extension": ".py",
   "mimetype": "text/x-python",
   "name": "python",
   "nbconvert_exporter": "python",
   "pygments_lexer": "ipython3",
   "version": "3.8.10"
  }
 },
 "nbformat": 4,
 "nbformat_minor": 5
}
