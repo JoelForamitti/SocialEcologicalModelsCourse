{
 "cells": [
  {
   "cell_type": "markdown",
   "id": "further-wisconsin",
   "metadata": {},
   "source": [
    "# Emissions, inequality, and the good life\n",
    "*Joël Foramitti, 09.02.2022*"
   ]
  },
  {
   "cell_type": "markdown",
   "id": "split-rhythm",
   "metadata": {},
   "source": [
    "This notebook introduces a model to explore the connection between inequality and well-being under a limited budget for annual emissions. \n",
    "\n",
    "The model's aim is to explore the following hypothesis: A limited carbon budget in an unequal world implies an extremely low budget per person for the lower end of the distribution. Reducing inequality thus makes it easier to achieve a good life for all within a limited carbon budget.\n",
    "\n",
    "The model takes as inputs an emission distribution, a degree of redistribution, an emission target, and a minimum amount of emissions that is needed to live a good life. As output, it calculates the share of the population that is able to live a good life under these conditions."
   ]
  },
  {
   "cell_type": "code",
   "execution_count": 1,
   "id": "referenced-donor",
   "metadata": {},
   "outputs": [],
   "source": [
    "import numpy as np\n",
    "import pandas as pd\n",
    "import seaborn as sns\n",
    "import matplotlib.pyplot as plt\n",
    "sns.set_theme()"
   ]
  },
  {
   "cell_type": "markdown",
   "id": "certified-product",
   "metadata": {},
   "source": [
    "## Global emission shares"
   ]
  },
  {
   "cell_type": "markdown",
   "id": "unavailable-grammar",
   "metadata": {},
   "source": [
    "As input data, we use the total emissions of each percentile of the global population of 2019 (given in tons of CO2 equivalent), taken from the [World Inequality Database](https://wid.world/)."
   ]
  },
  {
   "cell_type": "code",
   "execution_count": 2,
   "id": "intermediate-fetish",
   "metadata": {},
   "outputs": [],
   "source": [
    "emissions = pd.read_csv(f'data/tco2e_cap_2019.csv')['value'].to_numpy()"
   ]
  },
  {
   "cell_type": "markdown",
   "id": "cubic-hammer",
   "metadata": {},
   "source": [
    "We can take a look at this data with a histogram."
   ]
  },
  {
   "cell_type": "code",
   "execution_count": 3,
   "id": "sonic-affect",
   "metadata": {},
   "outputs": [
    {
     "data": {
      "image/png": "[encoded data removed]",
      "text/plain": [
       "<Figure size 864x288 with 1 Axes>"
      ]
     },
     "metadata": {},
     "output_type": "display_data"
    }
   ],
   "source": [
    "fig, ax = plt.subplots(1, 1, figsize=(12, 4))\n",
    "sns.histplot(emissions, ax=ax)\n",
    "ax.axvline(x=np.mean(emissions), color='r', label='Mean')\n",
    "ax.axvline(x=np.median(emissions), color='g', label='Median')\n",
    "ax.set_xlabel('GHG Emissions [tC02e/cap]')\n",
    "ax.set_ylabel('Percentage of population')\n",
    "ax.legend();"
   ]
  },
  {
   "cell_type": "markdown",
   "id": "greater-organ",
   "metadata": {},
   "source": [
    "We can also calculate the world's average per capita emissions."
   ]
  },
  {
   "cell_type": "code",
   "execution_count": 4,
   "id": "wound-optimum",
   "metadata": {},
   "outputs": [
    {
     "name": "stdout",
     "output_type": "stream",
     "text": [
      "Average emissions in 2019: 6.05 tC02e/cap\n"
     ]
    }
   ],
   "source": [
    "emissions_av = np.sum(emissions) / len(emissions)\n",
    "print(f'Average emissions in 2019: {round(emissions_av, 2)} tC02e/cap')"
   ]
  },
  {
   "cell_type": "markdown",
   "id": "developed-protection",
   "metadata": {},
   "source": [
    "You can compare this value with an estimate of your own carbon footprint: https://www.carbonfootprint.com/\n",
    "\n",
    "We now define a function that can redistribute emissions between each percentile."
   ]
  },
  {
   "cell_type": "code",
   "execution_count": 5,
   "id": "graphic-accused",
   "metadata": {},
   "outputs": [],
   "source": [
    "def redist(x, p):\n",
    "    \"\"\" Redistribute values x by a percentage p between 0 and 1. \n",
    "    The percentage p is taken from each element, \n",
    "    and then distributed equally amongst all elements.\"\"\"\n",
    "    y = np.sum(x * p) / len(x)\n",
    "    return x - x * p + y"
   ]
  },
  {
   "cell_type": "markdown",
   "id": "blind-montgomery",
   "metadata": {},
   "source": [
    "For example, the following represents a redistribution rate of 50%."
   ]
  },
  {
   "cell_type": "code",
   "execution_count": 6,
   "id": "measured-watson",
   "metadata": {},
   "outputs": [],
   "source": [
    "redist_emissions = redist(emissions, 0.5)"
   ]
  },
  {
   "cell_type": "markdown",
   "id": "monthly-pixel",
   "metadata": {},
   "source": [
    "We can measure and compare the inequality of different distributions with the [Gini coefficient](https://en.wikipedia.org/wiki/Gini_coefficient), as defined [here](https://stackoverflow.com/a/39513799)."
   ]
  },
  {
   "cell_type": "code",
   "execution_count": 7,
   "id": "canadian-grass",
   "metadata": {},
   "outputs": [
    {
     "name": "stdout",
     "output_type": "stream",
     "text": [
      "Gini coefficient before redistribution: 0.604236865070486\n",
      "Gini coefficient after redistribution: 0.3021184325352431\n"
     ]
    }
   ],
   "source": [
    "def gini(x):\n",
    "    \"\"\" Takes a list of values and returns the Gini coefficient. \"\"\"\n",
    "    mad = np.abs(np.subtract.outer(x, x)).mean()  # Mean absolute difference\n",
    "    rmad = mad / np.mean(x)  # Relative mean absolute difference\n",
    "    return 0.5 * rmad    \n",
    "\n",
    "print(f\"Gini coefficient before redistribution: {gini(emissions)}\")\n",
    "print(f\"Gini coefficient after redistribution: {gini(redist_emissions)}\")"
   ]
  },
  {
   "cell_type": "markdown",
   "id": "metropolitan-shirt",
   "metadata": {},
   "source": [
    "## The model"
   ]
  },
  {
   "cell_type": "markdown",
   "id": "satisfactory-conditions",
   "metadata": {},
   "source": [
    "We can now define our model. We make the following assumptions:\n",
    "\n",
    "- The model consists of 100 groups, each representing 1% of the global population.\n",
    "- Initial emissions reflect data from 2019, taken from the [World Inequality Database](https://wid.world/) (given in tCO2e/cap).\n",
    "- Emissions are reduced proportionally by an `reduction_rate` (a value between 0 and 1).\n",
    "- Emissions are then subjected to a certain level of `redistribution` between groups (a value between 0 and 1).\n",
    "- There is a a minimum amount of `emissions_min` that is needed to live a good life (any positive value, given in tCO2e/cap).\n",
    "\n",
    "The model is described in the following function. \n",
    "\n",
    "The output of the model is the share of the population that is able to live a good life under the given parameters."
   ]
  },
  {
   "cell_type": "code",
   "execution_count": 8,
   "id": "electric-basketball",
   "metadata": {},
   "outputs": [],
   "source": [
    "def calc_good_life_share(reduction_rate, redistribution, emissions_min):\n",
    "\n",
    "    emissions = pd.read_csv(f'data/tco2e_cap_2019.csv')['value'].to_numpy()\n",
    "    reduced_emissions = emissions * reduction_rate\n",
    "    redist_emissions = redist(reduced_emissions, redistribution)\n",
    "    n_good_life = sum([res >= emissions_min for res in redist_emissions]) \n",
    "    \n",
    "    return n_good_life / 100"
   ]
  },
  {
   "cell_type": "markdown",
   "id": "automotive-integral",
   "metadata": {},
   "source": [
    "The following example describes a setting with a reduction of total emissions by 50% and a minimum amount of necessary annual emissions for a good life of 1 tCO2e/cap."
   ]
  },
  {
   "cell_type": "code",
   "execution_count": 9,
   "id": "union-pizza",
   "metadata": {},
   "outputs": [
    {
     "data": {
      "text/plain": [
       "0.62"
      ]
     },
     "execution_count": 9,
     "metadata": {},
     "output_type": "execute_result"
    }
   ],
   "source": [
    "reduction_rate = 0.5\n",
    "redistribution = 0\n",
    "emissions_min = 1\n",
    "\n",
    "calc_good_life_share(reduction_rate, redistribution, emissions_min)"
   ]
  },
  {
   "cell_type": "markdown",
   "id": "designing-webster",
   "metadata": {},
   "source": [
    "This means that the share of the population that would be able to live a good life under these conditions is 62%.\n",
    "\n",
    "Now let us try to introduce some redistribution:"
   ]
  },
  {
   "cell_type": "code",
   "execution_count": 10,
   "id": "regional-miniature",
   "metadata": {},
   "outputs": [
    {
     "data": {
      "text/plain": [
       "1.0"
      ]
     },
     "execution_count": 10,
     "metadata": {},
     "output_type": "execute_result"
    }
   ],
   "source": [
    "reduction_rate = 0.5\n",
    "redistribution = 0.35\n",
    "emissions_min = 1\n",
    "\n",
    "calc_good_life_share(reduction_rate, redistribution, emissions_min)"
   ]
  },
  {
   "cell_type": "markdown",
   "id": "greatest-priority",
   "metadata": {},
   "source": [
    "This means that a good life for all can be reached with a redistribution rate of 35% (under assumed conditions)."
   ]
  },
  {
   "cell_type": "markdown",
   "id": "separate-poverty",
   "metadata": {},
   "source": [
    "## Parameter exploration"
   ]
  },
  {
   "cell_type": "markdown",
   "id": "congressional-orlando",
   "metadata": {},
   "source": [
    "We now define an experiment with this model, which can explore different ranges for the parameters `emissions_min` and `redistribution`."
   ]
  },
  {
   "cell_type": "code",
   "execution_count": 11,
   "id": "informal-treasure",
   "metadata": {},
   "outputs": [],
   "source": [
    "def run_experiment(reduction_rate, redistribution_range, emissions_min_range):\n",
    "\n",
    "    results = []\n",
    "    for emissions_min in np.linspace(*emissions_min_range, 10):\n",
    "        for redistribution in np.linspace(*redistribution_range, 10):\n",
    "            gls = calc_good_life_share(reduction_rate, redistribution, emissions_min)\n",
    "            results.append([gls, emissions_min, redistribution])\n",
    "\n",
    "    columns = ['good_life_share', 'emissions_min', 'redistribution']\n",
    "    return pd.DataFrame(results, columns=columns)"
   ]
  },
  {
   "cell_type": "markdown",
   "id": "contemporary-sharp",
   "metadata": {},
   "source": [
    "Finally, we define a function to visualize the results of this experiment."
   ]
  },
  {
   "cell_type": "code",
   "execution_count": 14,
   "id": "respected-concern",
   "metadata": {},
   "outputs": [],
   "source": [
    "def plot_simulation(results, emissions_min_range, emissions_max):\n",
    "    \n",
    "    # Main plot\n",
    "    ax = sns.lineplot(\n",
    "        data=results, \n",
    "        x='redistribution', \n",
    "        y='good_life_share', \n",
    "        hue='emissions_min',\n",
    "        palette='cool',\n",
    "    )\n",
    "        \n",
    "    # Colorbar\n",
    "    sm = plt.cm.ScalarMappable(\n",
    "        cmap='cool', \n",
    "        norm=plt.Normalize(*emissions_min_range))\n",
    "    ax.get_legend().remove()\n",
    "    cbar = ax.figure.colorbar(sm)\n",
    "    \n",
    "    # Labels\n",
    "    ax.set_title(f'Emission reduction target: {emissions_max*100} %')\n",
    "    ax.set_xlabel('Redistribution of emissions')\n",
    "    ax.set_ylabel('Share of people with a good life')\n",
    "    cbar.ax.get_yaxis().labelpad = 40\n",
    "    cbar.set_label('Emissions needed for a good life\\n [tCO2e/cap]', rotation=270)"
   ]
  },
  {
   "cell_type": "markdown",
   "id": "invalid-passage",
   "metadata": {},
   "source": [
    "We can now run and visualize the experiment for different parameter ranges as follows:"
   ]
  },
  {
   "cell_type": "code",
   "execution_count": 15,
   "id": "immediate-andrews",
   "metadata": {},
   "outputs": [
    {
     "data": {
      "image/png": "[encoded data removed]",
      "text/plain": [
       "<Figure size 432x288 with 2 Axes>"
      ]
     },
     "metadata": {},
     "output_type": "display_data"
    }
   ],
   "source": [
    "reduction_rate = 0.5\n",
    "emissions_min_range = (0, 5)\n",
    "redistribution_range = (0, 1)\n",
    "results = run_experiment(reduction_rate, redistribution_range, emissions_min_range)\n",
    "plot_simulation(results, emissions_min_range, reduction_rate)"
   ]
  },
  {
   "cell_type": "markdown",
   "id": "neutral-contents",
   "metadata": {},
   "source": [
    "The results show that the share of people with a good life increases for higher levels of redistribution if the emissions per capita needed for a good life are lower than a certain treshold around 3 tCO2e/cap."
   ]
  },
  {
   "cell_type": "markdown",
   "id": "developing-directive",
   "metadata": {},
   "source": [
    "## Questions for discussion"
   ]
  },
  {
   "cell_type": "markdown",
   "id": "according-centre",
   "metadata": {},
   "source": [
    "- Why does redistribution have a different effect under different values of `emissions_min`?\n",
    "- Why does the effect change at a threshold of around 3 tCO2e/cap?\n",
    "- What does `emissions_min` represent in the real world? How could it be decreased?"
   ]
  }
 ],
 "metadata": {
  "kernelspec": {
   "display_name": "Python 3",
   "language": "python",
   "name": "python3"
  },
  "language_info": {
   "codemirror_mode": {
    "name": "ipython",
    "version": 3
   },
   "file_extension": ".py",
   "mimetype": "text/x-python",
   "name": "python",
   "nbconvert_exporter": "python",
   "pygments_lexer": "ipython3",
   "version": "3.8.10"
  }
 },
 "nbformat": 4,
 "nbformat_minor": 5
}
